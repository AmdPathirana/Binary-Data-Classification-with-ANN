{
 "cells": [
  {
   "cell_type": "markdown",
   "id": "31f6b9b1",
   "metadata": {},
   "source": [
    "# Binary-Data-Classification-with-ANN"
   ]
  },
  {
   "cell_type": "code",
   "execution_count": null,
   "id": "6b15cb54",
   "metadata": {},
   "outputs": [],
   "source": []
  }
 ],
 "metadata": {
  "kernelspec": {
   "display_name": "Python 3 (ipykernel)",
   "language": "python",
   "name": "python3"
  },
  "language_info": {
   "codemirror_mode": {
    "name": "ipython",
    "version": 3
   },
   "file_extension": ".py",
   "mimetype": "text/x-python",
   "name": "python",
   "nbconvert_exporter": "python",
   "pygments_lexer": "ipython3",
   "version": "3.7.13"
  }
 },
 "nbformat": 4,
 "nbformat_minor": 5
}
